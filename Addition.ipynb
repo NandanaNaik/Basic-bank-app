{
  "nbformat": 4,
  "nbformat_minor": 0,
  "metadata": {
    "colab": {
      "name": "Addition.ipynb",
      "provenance": [],
      "collapsed_sections": [],
      "authorship_tag": "ABX9TyNOrHuAgHhvvJaH4jgZg0/4",
      "include_colab_link": true
    },
    "kernelspec": {
      "name": "python3",
      "display_name": "Python 3"
    },
    "language_info": {
      "name": "python"
    }
  },
  "cells": [
    {
      "cell_type": "markdown",
      "metadata": {
        "id": "view-in-github",
        "colab_type": "text"
      },
      "source": [
        "<a href=\"https://colab.research.google.com/github/NandanaNaik/Basic-bank-app/blob/main/Addition.ipynb\" target=\"_parent\"><img src=\"https://colab.research.google.com/assets/colab-badge.svg\" alt=\"Open In Colab\"/></a>"
      ]
    },
    {
      "cell_type": "code",
      "execution_count": null,
      "metadata": {
        "colab": {
          "base_uri": "https://localhost:8080/"
        },
        "id": "DCSB5bAezyCC",
        "outputId": "03181b4f-00ff-421a-e422-6bc45a784266"
      },
      "outputs": [
        {
          "output_type": "stream",
          "name": "stdout",
          "text": [
            "5\n"
          ]
        }
      ],
      "source": [
        "def max_value(list):\n",
        "    \n",
        "    list = [-8,3,4,5]\n",
        "\n",
        "    # set first element as max\n",
        "    max = list[0]\n",
        "    for i in list:\n",
        "        # check  greater than max\n",
        "        if i > max:\n",
        "            max = i\n",
        "    return max\n",
        "\n",
        "\n",
        "print(max_value (list))"
      ]
    },
    {
      "cell_type": "code",
      "source": [
        "price = 30\n",
        "\n",
        "if price >= 100:\n",
        "    print(\"price is greater than 100\")\n",
        "else:\n",
        "    print(\"price is less than 100\")"
      ],
      "metadata": {
        "colab": {
          "base_uri": "https://localhost:8080/"
        },
        "id": "98JVxtVcqrnJ",
        "outputId": "2121e9ff-8e89-420e-8544-8bd8bcfb0e4a"
      },
      "execution_count": 3,
      "outputs": [
        {
          "output_type": "stream",
          "name": "stdout",
          "text": [
            "price is less than 100\n"
          ]
        }
      ]
    },
    {
      "cell_type": "code",
      "source": [
        "exercise list:\n",
        "take two list of same size  list_v = [-3,0,5,6] and list_u = [4,0,-2,7] do the element wise addition. ans = [1,0,3,13]\n",
        "print the strings whose lengths are equal to 3 ; list_of_strings = ['quick', 'brown','fox','jumps','over','the', 'lazy','dog']\n",
        "print the middle element of the list. ex1: list_a = [3,2,6] ans = 2 , ex:2 list_b = [0,1,2,3] ans = 2\n",
        "print only even numbers of the array : even_and_odds = [1,2,0,5,6] ans:[2,0,6]\n",
        "count the number of digits present in the given number : ex1 : 125 --> ans 3 , ex2: 1000 --> 3 digits\n",
        "revers the array : [-3,2,0] --> ans [0,2,-3]\n",
        "write the program to swap the number without using temp variable : a = 3, b=4 --> ans a=4, b=3 \n",
        "write the program to sort the given list :  unsorted_list = [0,-3,5,2] --> ans = [-3,0,2,5]"
      ],
      "metadata": {
        "id": "asdz-TFM49rM"
      },
      "execution_count": null,
      "outputs": []
    },
    {
      "cell_type": "code",
      "source": [
        "v=[-3,0,5,6]\n",
        "u=[4,0,-2,7]\n",
        "c=v+u\n",
        "print(c)"
      ],
      "metadata": {
        "colab": {
          "base_uri": "https://localhost:8080/"
        },
        "id": "YPg8h97m7Ys7",
        "outputId": "a8fc6078-9308-4969-c8a5-5b27a43ada5c"
      },
      "execution_count": null,
      "outputs": [
        {
          "output_type": "stream",
          "name": "stdout",
          "text": [
            "[-3, 0, 5, 6, 4, 0, -2, 7]\n"
          ]
        }
      ]
    },
    {
      "cell_type": "code",
      "source": [
        "\n",
        "\n",
        "# initializing lists\n",
        "v = [-3,0,5,6]\n",
        "u = [4,0,-2,7]\n",
        "\n",
        "# add two list\n",
        "res_list = []\n",
        "for i in range(0, len(v)):\n",
        "\tres_list.append(v[i] + u[i])\n",
        "\n",
        "# printing resultant list\n",
        "print (\"Result is : \" + str(res_list))\n"
      ],
      "metadata": {
        "colab": {
          "base_uri": "https://localhost:8080/"
        },
        "id": "1Ov9w9BR79xb",
        "outputId": "ace80262-031a-412f-db24-8b51f7ff3b77"
      },
      "execution_count": null,
      "outputs": [
        {
          "output_type": "stream",
          "name": "stdout",
          "text": [
            "Result is : [1, 0, 3, 13]\n"
          ]
        }
      ]
    },
    {
      "cell_type": "code",
      "source": [
        "\n",
        "\n",
        "# initializing lists\n",
        "list1 = [-3,0,5,6]\n",
        "list2 = [4,4,-2,7]\n",
        "\n",
        "\n",
        "\n",
        "# add two list\n",
        "res_list = [list1[i] + list2[i] for i in range(len(list1))]\n",
        "\n",
        "# printing resulT list\n",
        "print (\"Result list is : \" + str(res_list))\n"
      ],
      "metadata": {
        "colab": {
          "base_uri": "https://localhost:8080/"
        },
        "id": "uX5ppnQ49kPu",
        "outputId": "e02fe5a0-2410-4bab-ae1f-cd8ecfcb587f"
      },
      "execution_count": 4,
      "outputs": [
        {
          "output_type": "stream",
          "name": "stdout",
          "text": [
            "Result list is : [1, 4, 3, 13]\n"
          ]
        }
      ]
    }
  ]
}